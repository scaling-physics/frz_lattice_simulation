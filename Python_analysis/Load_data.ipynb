{
 "cells": [
  {
   "cell_type": "code",
   "execution_count": 1,
   "metadata": {
    "scrolled": true
   },
   "outputs": [
    {
     "name": "stderr",
     "output_type": "stream",
     "text": [
      "/home/subraman/anaconda3/lib/python3.8/site-packages/pandas/core/computation/expressions.py:20: UserWarning: Pandas requires version '2.7.3' or newer of 'numexpr' (version '2.7.1' currently installed).\n",
      "  from pandas.core.computation.check import NUMEXPR_INSTALLED\n"
     ]
    }
   ],
   "source": [
    "#!/usr/bin/env python3\n",
    "# -*- coding: utf-8 -*-\n",
    "\"\"\"\n",
    "Created on Tue Nov 23 15:33:48 2021\n",
    "\n",
    "@author: srikanth subramanian\n",
    "\"\"\"\n",
    "\n",
    "import hexalattice.hexalattice as hex\n",
    "import numpy as np\n",
    "import matplotlib.pyplot as plt\n",
    "from pathlib import  Path\n",
    "import imageio as iio\n",
    "import pandas as pd\n",
    "import seaborn as sns\n",
    "import glob"
   ]
  },
  {
   "cell_type": "code",
   "execution_count": 9,
   "metadata": {},
   "outputs": [
    {
     "ename": "TypeError",
     "evalue": "unhashable type: 'numpy.ndarray'",
     "output_type": "error",
     "traceback": [
      "\u001b[0;31m---------------------------------------------------------------------------\u001b[0m",
      "\u001b[0;31mTypeError\u001b[0m                                 Traceback (most recent call last)",
      "\u001b[0;32m<ipython-input-9-4aa3f2b0dfdd>\u001b[0m in \u001b[0;36m<module>\u001b[0;34m\u001b[0m\n\u001b[1;32m     17\u001b[0m                 \u001b[0;31m# Store the DataFrame as an HDF5 file\u001b[0m\u001b[0;34m\u001b[0m\u001b[0;34m\u001b[0m\u001b[0;34m\u001b[0m\u001b[0m\n\u001b[1;32m     18\u001b[0m                 \u001b[0mkey\u001b[0m \u001b[0;34m=\u001b[0m \u001b[0mnp\u001b[0m\u001b[0;34m.\u001b[0m\u001b[0marray\u001b[0m\u001b[0;34m(\u001b[0m\u001b[0;34m[\u001b[0m\u001b[0mJ\u001b[0m\u001b[0;34m,\u001b[0m\u001b[0mbeta\u001b[0m\u001b[0;34m,\u001b[0m\u001b[0mFrzB\u001b[0m\u001b[0;34m]\u001b[0m\u001b[0;34m,\u001b[0m\u001b[0mdtype\u001b[0m \u001b[0;34m=\u001b[0m \u001b[0mbool\u001b[0m\u001b[0;34m)\u001b[0m\u001b[0;34m\u001b[0m\u001b[0;34m\u001b[0m\u001b[0m\n\u001b[0;32m---> 19\u001b[0;31m                 \u001b[0mall_particles\u001b[0m \u001b[0;34m=\u001b[0m \u001b[0;34m{\u001b[0m\u001b[0mkey\u001b[0m\u001b[0;34m:\u001b[0m \u001b[0mpd\u001b[0m\u001b[0;34m.\u001b[0m\u001b[0mDataFrame\u001b[0m\u001b[0;34m(\u001b[0m\u001b[0mlabels\u001b[0m\u001b[0;34m)\u001b[0m\u001b[0;34m}\u001b[0m\u001b[0;34m\u001b[0m\u001b[0;34m\u001b[0m\u001b[0m\n\u001b[0m\u001b[1;32m     20\u001b[0m \u001b[0;34m\u001b[0m\u001b[0m\n\u001b[1;32m     21\u001b[0m \u001b[0;31m# Store the DataFrames as an HDF5 file\u001b[0m\u001b[0;34m\u001b[0m\u001b[0;34m\u001b[0m\u001b[0;34m\u001b[0m\u001b[0m\n",
      "\u001b[0;31mTypeError\u001b[0m: unhashable type: 'numpy.ndarray'"
     ]
    }
   ],
   "source": [
    "run = 40\n",
    "params = [2,2.5,3,3.5,4]\n",
    "params1 = [2,2.5,3,3.5,4,5,6,7,8]\n",
    "alpha = 0\n",
    "all_particles = {}\n",
    "frz = {}\n",
    "\n",
    "for J in [3]:\n",
    "    for beta in [6]:\n",
    "        for FrzB in [60]:\n",
    "            for index in [1]:\n",
    "                \n",
    " \n",
    "                labels = np.loadtxt(f'/scratch2/Srikanth/chemotactic_clusters/{run}/{index}_dFrzB_labels_J_{J}_alpha_{alpha}_FrzB_{FrzB}_beta_{beta}.txt',dtype=int,skiprows=1)\n",
    "                Frz = np.loadtxt(f'/scratch2/Srikanth/chemotactic_clusters/{run}/{index}_dFrzB_flags_J_{J}_alpha_{alpha}_FrzB_{FrzB}_beta_{beta}.txt',dtype=int,skiprows=1)\n",
    "                Nx,Ny = np.loadtxt(f'/scratch2/Srikanth/chemotactic_clusters/{run}/{index}_dFrzB_labels_J_{J}_alpha_{alpha}_FrzB_{FrzB}_beta_{beta}.txt',dtype=int,max_rows=1)\n",
    "                # Store the DataFrame as an HDF5 file\n",
    "                key = np.array([J,beta,FrzB],dtype = bool)\n",
    "                all_particles[key] = pd.DataFrame(labels)\n",
    "\n",
    "# Store the DataFrames as an HDF5 file\n",
    "with pd.HDFStore('data/all_particles.h5', mode='w') as store:\n",
    "    for key, df in all_particles.items():\n",
    "        store[key.tobytes()] = df\n"
   ]
  },
  {
   "cell_type": "code",
   "execution_count": 2,
   "metadata": {},
   "outputs": [
    {
     "name": "stdout",
     "output_type": "stream",
     "text": [
      "\u001b[31mERROR: Invalid requirement: '@'\u001b[0m\u001b[31m\n",
      "\u001b[0mNote: you may need to restart the kernel to use updated packages.\n"
     ]
    }
   ],
   "source": []
  },
  {
   "cell_type": "code",
   "execution_count": null,
   "metadata": {},
   "outputs": [],
   "source": []
  }
 ],
 "metadata": {
  "kernelspec": {
   "display_name": "Python 3",
   "language": "python",
   "name": "python3"
  },
  "language_info": {
   "codemirror_mode": {
    "name": "ipython",
    "version": 3
   },
   "file_extension": ".py",
   "mimetype": "text/x-python",
   "name": "python",
   "nbconvert_exporter": "python",
   "pygments_lexer": "ipython3",
   "version": "3.8.3"
  }
 },
 "nbformat": 4,
 "nbformat_minor": 4
}
